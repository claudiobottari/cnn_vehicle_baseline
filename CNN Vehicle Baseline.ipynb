{
 "cells": [
  {
   "cell_type": "markdown",
   "metadata": {
    "ExecuteTime": {
     "end_time": "2020-01-15T15:31:42.979336Z",
     "start_time": "2020-01-15T15:31:42.975349Z"
    }
   },
   "source": [
    "# CNN Vehicle (car) Baseline v1.0"
   ]
  },
  {
   "cell_type": "code",
   "execution_count": 1,
   "metadata": {
    "ExecuteTime": {
     "end_time": "2020-01-17T10:52:39.568689Z",
     "start_time": "2020-01-17T10:52:30.011133Z"
    }
   },
   "outputs": [],
   "source": [
    "import pandas as pd\n",
    "\n",
    "from sklearn import metrics\n",
    "from sklearn.model_selection import train_test_split\n",
    "\n",
    "import tensorflow as tf\n",
    "from tensorflow.keras.models import Sequential\n",
    "from tensorflow.keras.layers import Dense, Conv1D, MaxPooling1D, GlobalMaxPooling1D\n",
    "from tensorflow.keras.optimizers import Adam\n",
    "\n",
    "import seaborn as sns\n",
    "import matplotlib.pyplot as plt\n",
    "%matplotlib inline"
   ]
  },
  {
   "cell_type": "markdown",
   "metadata": {},
   "source": [
    "**Download data**\n",
    "\n",
    "download data from https://www.kaggle.com/claudiobottari/mobile-accelerometer-car-12k"
   ]
  },
  {
   "cell_type": "code",
   "execution_count": 2,
   "metadata": {
    "ExecuteTime": {
     "end_time": "2020-01-17T10:52:42.712113Z",
     "start_time": "2020-01-17T10:52:39.569611Z"
    }
   },
   "outputs": [],
   "source": [
    "import kaggle\n",
    "\n",
    "kaggle.api.authenticate()\n",
    "kaggle.api.dataset_download_files('mobile-accelerometer-car-12k', path='claudiobottari', unzip=False)"
   ]
  },
  {
   "cell_type": "code",
   "execution_count": 3,
   "metadata": {
    "ExecuteTime": {
     "end_time": "2020-01-17T10:52:42.824705Z",
     "start_time": "2020-01-17T10:52:42.713110Z"
    }
   },
   "outputs": [
    {
     "data": {
      "text/html": [
       "<div>\n",
       "<style scoped>\n",
       "    .dataframe tbody tr th:only-of-type {\n",
       "        vertical-align: middle;\n",
       "    }\n",
       "\n",
       "    .dataframe tbody tr th {\n",
       "        vertical-align: top;\n",
       "    }\n",
       "\n",
       "    .dataframe thead th {\n",
       "        text-align: right;\n",
       "    }\n",
       "</style>\n",
       "<table border=\"1\" class=\"dataframe\">\n",
       "  <thead>\n",
       "    <tr style=\"text-align: right;\">\n",
       "      <th></th>\n",
       "      <th>acc_x</th>\n",
       "      <th>acc_y</th>\n",
       "      <th>acc_z</th>\n",
       "      <th>target</th>\n",
       "    </tr>\n",
       "  </thead>\n",
       "  <tbody>\n",
       "    <tr>\n",
       "      <th>0</th>\n",
       "      <td>-0.113725</td>\n",
       "      <td>0.083797</td>\n",
       "      <td>9.654618</td>\n",
       "      <td>0</td>\n",
       "    </tr>\n",
       "    <tr>\n",
       "      <th>1</th>\n",
       "      <td>-0.098162</td>\n",
       "      <td>0.087388</td>\n",
       "      <td>9.630676</td>\n",
       "      <td>0</td>\n",
       "    </tr>\n",
       "    <tr>\n",
       "      <th>2</th>\n",
       "      <td>-0.099359</td>\n",
       "      <td>0.094571</td>\n",
       "      <td>9.645041</td>\n",
       "      <td>0</td>\n",
       "    </tr>\n",
       "    <tr>\n",
       "      <th>3</th>\n",
       "      <td>-0.099359</td>\n",
       "      <td>0.089783</td>\n",
       "      <td>9.649830</td>\n",
       "      <td>0</td>\n",
       "    </tr>\n",
       "    <tr>\n",
       "      <th>4</th>\n",
       "      <td>-0.118513</td>\n",
       "      <td>0.087388</td>\n",
       "      <td>9.634268</td>\n",
       "      <td>0</td>\n",
       "    </tr>\n",
       "  </tbody>\n",
       "</table>\n",
       "</div>"
      ],
      "text/plain": [
       "      acc_x     acc_y     acc_z  target\n",
       "0 -0.113725  0.083797  9.654618       0\n",
       "1 -0.098162  0.087388  9.630676       0\n",
       "2 -0.099359  0.094571  9.645041       0\n",
       "3 -0.099359  0.089783  9.649830       0\n",
       "4 -0.118513  0.087388  9.634268       0"
      ]
     },
     "execution_count": 3,
     "metadata": {},
     "output_type": "execute_result"
    }
   ],
   "source": [
    "df = pd.read_csv('claudiobottari/mobile-accelerometer-car-12k.zip', compression='zip')\n",
    "df.head()"
   ]
  },
  {
   "cell_type": "code",
   "execution_count": 4,
   "metadata": {
    "ExecuteTime": {
     "end_time": "2020-01-17T10:52:42.863671Z",
     "start_time": "2020-01-17T10:52:42.825670Z"
    }
   },
   "outputs": [
    {
     "data": {
      "text/html": [
       "<div>\n",
       "<style scoped>\n",
       "    .dataframe tbody tr th:only-of-type {\n",
       "        vertical-align: middle;\n",
       "    }\n",
       "\n",
       "    .dataframe tbody tr th {\n",
       "        vertical-align: top;\n",
       "    }\n",
       "\n",
       "    .dataframe thead th {\n",
       "        text-align: right;\n",
       "    }\n",
       "</style>\n",
       "<table border=\"1\" class=\"dataframe\">\n",
       "  <thead>\n",
       "    <tr style=\"text-align: right;\">\n",
       "      <th></th>\n",
       "      <th>acc_x</th>\n",
       "      <th>acc_y</th>\n",
       "      <th>acc_z</th>\n",
       "      <th>target</th>\n",
       "    </tr>\n",
       "  </thead>\n",
       "  <tbody>\n",
       "    <tr>\n",
       "      <th>count</th>\n",
       "      <td>120000.000000</td>\n",
       "      <td>120000.000000</td>\n",
       "      <td>120000.000000</td>\n",
       "      <td>120000.000000</td>\n",
       "    </tr>\n",
       "    <tr>\n",
       "      <th>mean</th>\n",
       "      <td>-0.354549</td>\n",
       "      <td>5.367115</td>\n",
       "      <td>6.729311</td>\n",
       "      <td>0.500000</td>\n",
       "    </tr>\n",
       "    <tr>\n",
       "      <th>std</th>\n",
       "      <td>1.931744</td>\n",
       "      <td>3.420114</td>\n",
       "      <td>2.588606</td>\n",
       "      <td>0.500002</td>\n",
       "    </tr>\n",
       "    <tr>\n",
       "      <th>min</th>\n",
       "      <td>-12.509735</td>\n",
       "      <td>-19.051361</td>\n",
       "      <td>-19.093689</td>\n",
       "      <td>0.000000</td>\n",
       "    </tr>\n",
       "    <tr>\n",
       "      <th>25%</th>\n",
       "      <td>-1.116619</td>\n",
       "      <td>1.902695</td>\n",
       "      <td>4.829160</td>\n",
       "      <td>0.000000</td>\n",
       "    </tr>\n",
       "    <tr>\n",
       "      <th>50%</th>\n",
       "      <td>-0.529119</td>\n",
       "      <td>6.922834</td>\n",
       "      <td>6.459327</td>\n",
       "      <td>0.500000</td>\n",
       "    </tr>\n",
       "    <tr>\n",
       "      <th>75%</th>\n",
       "      <td>-0.092177</td>\n",
       "      <td>8.182184</td>\n",
       "      <td>9.212952</td>\n",
       "      <td>1.000000</td>\n",
       "    </tr>\n",
       "    <tr>\n",
       "      <th>max</th>\n",
       "      <td>36.782090</td>\n",
       "      <td>13.737244</td>\n",
       "      <td>60.973206</td>\n",
       "      <td>1.000000</td>\n",
       "    </tr>\n",
       "  </tbody>\n",
       "</table>\n",
       "</div>"
      ],
      "text/plain": [
       "               acc_x          acc_y          acc_z         target\n",
       "count  120000.000000  120000.000000  120000.000000  120000.000000\n",
       "mean       -0.354549       5.367115       6.729311       0.500000\n",
       "std         1.931744       3.420114       2.588606       0.500002\n",
       "min       -12.509735     -19.051361     -19.093689       0.000000\n",
       "25%        -1.116619       1.902695       4.829160       0.000000\n",
       "50%        -0.529119       6.922834       6.459327       0.500000\n",
       "75%        -0.092177       8.182184       9.212952       1.000000\n",
       "max        36.782090      13.737244      60.973206       1.000000"
      ]
     },
     "execution_count": 4,
     "metadata": {},
     "output_type": "execute_result"
    }
   ],
   "source": [
    "df.describe()"
   ]
  },
  {
   "cell_type": "markdown",
   "metadata": {},
   "source": [
    "The Dataframe reports the accelerometer sensor values for spatial coordinates x, y and z. The target refers to the predictions of the vehicle: if the actual vehicle is a car the variable is set as 1. \n",
    "An occurrence of one second corresponds to a sample of 100 rows."
   ]
  },
  {
   "cell_type": "markdown",
   "metadata": {},
   "source": [
    "**Pre-processing**"
   ]
  },
  {
   "cell_type": "markdown",
   "metadata": {},
   "source": [
    "Retrieve numpy array for X and Y from the DataFrame"
   ]
  },
  {
   "cell_type": "code",
   "execution_count": 5,
   "metadata": {
    "ExecuteTime": {
     "end_time": "2020-01-17T10:52:42.871698Z",
     "start_time": "2020-01-17T10:52:42.864719Z"
    }
   },
   "outputs": [
    {
     "name": "stdout",
     "output_type": "stream",
     "text": [
      "(120000, 3) (120000, 1)\n"
     ]
    }
   ],
   "source": [
    "X = df[['acc_x', 'acc_y', 'acc_z']].values\n",
    "y = df[['target']].values\n",
    "print(X.shape, y.shape)"
   ]
  },
  {
   "cell_type": "markdown",
   "metadata": {},
   "source": [
    "Reshape of the dataset according to the 100 samples for second.\n",
    "Division of X and Y."
   ]
  },
  {
   "cell_type": "code",
   "execution_count": 6,
   "metadata": {
    "ExecuteTime": {
     "end_time": "2020-01-17T10:52:42.880673Z",
     "start_time": "2020-01-17T10:52:42.872673Z"
    }
   },
   "outputs": [
    {
     "name": "stdout",
     "output_type": "stream",
     "text": [
      "(1200, 100, 3) (1200,)\n"
     ]
    }
   ],
   "source": [
    "X = X.reshape(df.shape[0]//100, 100, 3)\n",
    "y = y.reshape(df.shape[0]//100, 100)[:, 0]\n",
    "print(X.shape, y.shape)"
   ]
  },
  {
   "cell_type": "markdown",
   "metadata": {},
   "source": [
    "Split in Training and Validation set (25%)"
   ]
  },
  {
   "cell_type": "code",
   "execution_count": 7,
   "metadata": {
    "ExecuteTime": {
     "end_time": "2020-01-17T10:52:42.893673Z",
     "start_time": "2020-01-17T10:52:42.881698Z"
    }
   },
   "outputs": [
    {
     "name": "stdout",
     "output_type": "stream",
     "text": [
      "(900, 100, 3) (900,)\n",
      "(300, 100, 3) (300,)\n"
     ]
    }
   ],
   "source": [
    "X_train, X_test, y_train, y_test = train_test_split(X, y, test_size=0.25, random_state=23, shuffle=True)\n",
    "print(X_train.shape, y_train.shape)\n",
    "print(X_test.shape, y_test.shape)"
   ]
  },
  {
   "cell_type": "markdown",
   "metadata": {
    "ExecuteTime": {
     "end_time": "2020-01-15T15:50:37.318995Z",
     "start_time": "2020-01-15T15:50:37.314009Z"
    }
   },
   "source": [
    "**Model Setting**"
   ]
  },
  {
   "cell_type": "markdown",
   "metadata": {},
   "source": [
    "Creation of the CNN model "
   ]
  },
  {
   "cell_type": "code",
   "execution_count": 8,
   "metadata": {
    "ExecuteTime": {
     "end_time": "2020-01-17T10:52:42.971696Z",
     "start_time": "2020-01-17T10:52:42.895671Z"
    }
   },
   "outputs": [
    {
     "name": "stdout",
     "output_type": "stream",
     "text": [
      "Model: \"vehicle_cnn_baseline\"\n",
      "_________________________________________________________________\n",
      "Layer (type)                 Output Shape              Param #   \n",
      "=================================================================\n",
      "conv_1 (Conv1D)              (None, 98, 16)            160       \n",
      "_________________________________________________________________\n",
      "max_pool_1 (MaxPooling1D)    (None, 49, 16)            0         \n",
      "_________________________________________________________________\n",
      "conv_2 (Conv1D)              (None, 47, 32)            1568      \n",
      "_________________________________________________________________\n",
      "max_pool_2 (MaxPooling1D)    (None, 23, 32)            0         \n",
      "_________________________________________________________________\n",
      "conv_3 (Conv1D)              (None, 21, 16)            1552      \n",
      "_________________________________________________________________\n",
      "max_pool_3 (MaxPooling1D)    (None, 10, 16)            0         \n",
      "_________________________________________________________________\n",
      "global_max (GlobalMaxPooling (None, 16)                0         \n",
      "_________________________________________________________________\n",
      "fully_connected_output (Dens (None, 1)                 17        \n",
      "=================================================================\n",
      "Total params: 3,297\n",
      "Trainable params: 3,297\n",
      "Non-trainable params: 0\n",
      "_________________________________________________________________\n"
     ]
    }
   ],
   "source": [
    "#create model\n",
    "model = Sequential([\n",
    "    Conv1D(16, kernel_size=3, activation='relu', input_shape=X.shape[1:], name='conv_1'),\n",
    "    MaxPooling1D(name='max_pool_1'),\n",
    "    Conv1D(32, kernel_size=3, activation='relu', name='conv_2'),\n",
    "    MaxPooling1D(name='max_pool_2'),\n",
    "    Conv1D(16, kernel_size=3, activation='relu', name='conv_3'),\n",
    "    MaxPooling1D(name='max_pool_3'),\n",
    "    GlobalMaxPooling1D(name='global_max'),\n",
    "    Dense(1, activation='sigmoid', name='fully_connected_output')], name='vehicle_cnn_baseline')\n",
    "\n",
    "model.summary()"
   ]
  },
  {
   "cell_type": "markdown",
   "metadata": {},
   "source": [
    "Setting of the optimizer, learning rate and loss"
   ]
  },
  {
   "cell_type": "code",
   "execution_count": 9,
   "metadata": {
    "ExecuteTime": {
     "end_time": "2020-01-17T10:52:43.005731Z",
     "start_time": "2020-01-17T10:52:42.972698Z"
    }
   },
   "outputs": [],
   "source": [
    "model.compile(optimizer=Adam(learning_rate=3e-3), loss='binary_crossentropy', metrics=['accuracy'])"
   ]
  },
  {
   "cell_type": "markdown",
   "metadata": {},
   "source": [
    "**Training**"
   ]
  },
  {
   "cell_type": "code",
   "execution_count": 10,
   "metadata": {
    "ExecuteTime": {
     "end_time": "2020-01-17T10:52:45.334680Z",
     "start_time": "2020-01-17T10:52:43.006706Z"
    },
    "scrolled": false
   },
   "outputs": [
    {
     "name": "stdout",
     "output_type": "stream",
     "text": [
      "Train on 900 samples, validate on 300 samples\n",
      "Epoch 1/25\n",
      "900/900 - 1s - loss: 0.3990 - accuracy: 0.8100 - val_loss: 0.1939 - val_accuracy: 0.9333\n",
      "Epoch 2/25\n",
      "900/900 - 0s - loss: 0.1880 - accuracy: 0.9333 - val_loss: 0.1648 - val_accuracy: 0.9300\n",
      "Epoch 3/25\n",
      "900/900 - 0s - loss: 0.1791 - accuracy: 0.9333 - val_loss: 0.1652 - val_accuracy: 0.9400\n",
      "Epoch 4/25\n",
      "900/900 - 0s - loss: 0.1627 - accuracy: 0.9367 - val_loss: 0.1528 - val_accuracy: 0.9400\n",
      "Epoch 5/25\n",
      "900/900 - 0s - loss: 0.1581 - accuracy: 0.9422 - val_loss: 0.1458 - val_accuracy: 0.9400\n",
      "Epoch 6/25\n",
      "900/900 - 0s - loss: 0.1502 - accuracy: 0.9367 - val_loss: 0.1447 - val_accuracy: 0.9400\n",
      "Epoch 7/25\n",
      "900/900 - 0s - loss: 0.1506 - accuracy: 0.9433 - val_loss: 0.1355 - val_accuracy: 0.9467\n",
      "Epoch 8/25\n",
      "900/900 - 0s - loss: 0.1510 - accuracy: 0.9267 - val_loss: 0.1638 - val_accuracy: 0.9467\n",
      "Epoch 9/25\n",
      "900/900 - 0s - loss: 0.1564 - accuracy: 0.9433 - val_loss: 0.1291 - val_accuracy: 0.9433\n",
      "Epoch 10/25\n",
      "900/900 - 0s - loss: 0.1450 - accuracy: 0.9411 - val_loss: 0.1389 - val_accuracy: 0.9400\n",
      "Epoch 11/25\n",
      "900/900 - 0s - loss: 0.1401 - accuracy: 0.9378 - val_loss: 0.1232 - val_accuracy: 0.9467\n",
      "Epoch 12/25\n",
      "900/900 - 0s - loss: 0.1403 - accuracy: 0.9467 - val_loss: 0.1292 - val_accuracy: 0.9433\n",
      "Epoch 13/25\n",
      "900/900 - 0s - loss: 0.1335 - accuracy: 0.9411 - val_loss: 0.1205 - val_accuracy: 0.9467\n",
      "Epoch 14/25\n",
      "900/900 - 0s - loss: 0.1370 - accuracy: 0.9411 - val_loss: 0.1213 - val_accuracy: 0.9433\n",
      "Epoch 15/25\n",
      "900/900 - 0s - loss: 0.1353 - accuracy: 0.9378 - val_loss: 0.1274 - val_accuracy: 0.9433\n",
      "Epoch 16/25\n",
      "900/900 - 0s - loss: 0.1321 - accuracy: 0.9467 - val_loss: 0.1155 - val_accuracy: 0.9467\n",
      "Epoch 17/25\n",
      "900/900 - 0s - loss: 0.1328 - accuracy: 0.9389 - val_loss: 0.1238 - val_accuracy: 0.9433\n",
      "Epoch 18/25\n",
      "900/900 - 0s - loss: 0.1311 - accuracy: 0.9411 - val_loss: 0.1246 - val_accuracy: 0.9433\n",
      "Epoch 19/25\n",
      "900/900 - 0s - loss: 0.1230 - accuracy: 0.9433 - val_loss: 0.1114 - val_accuracy: 0.9500\n",
      "Epoch 20/25\n",
      "900/900 - 0s - loss: 0.1233 - accuracy: 0.9444 - val_loss: 0.1232 - val_accuracy: 0.9467\n",
      "Epoch 21/25\n",
      "900/900 - 0s - loss: 0.1251 - accuracy: 0.9422 - val_loss: 0.1147 - val_accuracy: 0.9433\n",
      "Epoch 22/25\n",
      "900/900 - 0s - loss: 0.1195 - accuracy: 0.9467 - val_loss: 0.1083 - val_accuracy: 0.9500\n",
      "Epoch 23/25\n",
      "900/900 - 0s - loss: 0.1258 - accuracy: 0.9433 - val_loss: 0.1221 - val_accuracy: 0.9467\n",
      "Epoch 24/25\n",
      "900/900 - 0s - loss: 0.1269 - accuracy: 0.9400 - val_loss: 0.1182 - val_accuracy: 0.9467\n",
      "Epoch 25/25\n",
      "900/900 - 0s - loss: 0.1221 - accuracy: 0.9478 - val_loss: 0.1037 - val_accuracy: 0.9467\n"
     ]
    }
   ],
   "source": [
    "history = model.fit(X_train, y_train, epochs=25, validation_data=(X_test, y_test), verbose=2, batch_size=150)"
   ]
  },
  {
   "cell_type": "markdown",
   "metadata": {},
   "source": [
    "Plot of the model accuracy and model loss in training and validation set during the 50 epochs."
   ]
  },
  {
   "cell_type": "code",
   "execution_count": 11,
   "metadata": {
    "ExecuteTime": {
     "end_time": "2020-01-17T10:52:45.458703Z",
     "start_time": "2020-01-17T10:52:45.335681Z"
    }
   },
   "outputs": [
    {
     "data": {
      "image/png": "[encoded data removed]",
      "text/plain": [
       "<Figure size 432x288 with 1 Axes>"
      ]
     },
     "metadata": {
      "needs_background": "light"
     },
     "output_type": "display_data"
    }
   ],
   "source": [
    "plt.plot(history.history['accuracy'])\n",
    "plt.plot(history.history['val_accuracy'])\n",
    "plt.title('Accuracy through training')\n",
    "plt.ylabel('accuracy')\n",
    "plt.xlabel('epoch')\n",
    "plt.legend(['train', 'validation'], loc='upper left')\n",
    "plt.show()"
   ]
  },
  {
   "cell_type": "code",
   "execution_count": 12,
   "metadata": {
    "ExecuteTime": {
     "end_time": "2020-01-17T10:52:45.572738Z",
     "start_time": "2020-01-17T10:52:45.459702Z"
    },
    "scrolled": false
   },
   "outputs": [
    {
     "data": {
      "image/png": "[encoded data removed]",
      "text/plain": [
       "<Figure size 432x288 with 1 Axes>"
      ]
     },
     "metadata": {
      "needs_background": "light"
     },
     "output_type": "display_data"
    }
   ],
   "source": [
    "plt.plot(history.history['loss'])\n",
    "plt.plot(history.history['val_loss'])\n",
    "plt.title('Loss through training')\n",
    "plt.ylabel('loss')\n",
    "plt.xlabel('epoch')\n",
    "plt.legend(['train', 'validation'], loc='upper left')\n",
    "plt.show()"
   ]
  },
  {
   "cell_type": "markdown",
   "metadata": {},
   "source": [
    "**Test evaluation**"
   ]
  },
  {
   "cell_type": "markdown",
   "metadata": {},
   "source": [
    "Calculation of the predictions, confusion matrix and some metrics."
   ]
  },
  {
   "cell_type": "code",
   "execution_count": 13,
   "metadata": {
    "ExecuteTime": {
     "end_time": "2020-01-17T10:52:45.815734Z",
     "start_time": "2020-01-17T10:52:45.573741Z"
    }
   },
   "outputs": [
    {
     "data": {
      "image/png": "[encoded data removed]",
      "text/plain": [
       "<Figure size 432x288 with 2 Axes>"
      ]
     },
     "metadata": {
      "needs_background": "light"
     },
     "output_type": "display_data"
    }
   ],
   "source": [
    "y_pred = model.predict(X_test)\n",
    "\n",
    "ax = plt.subplot()\n",
    "cm = metrics.confusion_matrix(y_test, (y_pred > 0.5))\n",
    "sns.heatmap(cm, cmap= 'Blues', annot= cm, ax = ax, fmt=\"d\")\n",
    "\n",
    "ax.set_xlabel('Predicted labels')\n",
    "ax.set_ylabel('True labels')\n",
    "ax.set_title('Test Confusion Matrix')\n",
    "ax.xaxis.set_ticklabels(['Other', 'Car'])\n",
    "ax.yaxis.set_ticklabels(['Other', 'Car'])\n",
    "plt.show()"
   ]
  },
  {
   "cell_type": "code",
   "execution_count": 14,
   "metadata": {
    "ExecuteTime": {
     "end_time": "2020-01-17T10:52:45.826068Z",
     "start_time": "2020-01-17T10:52:45.816738Z"
    }
   },
   "outputs": [
    {
     "name": "stdout",
     "output_type": "stream",
     "text": [
      "Accuracy: 0.946667\n",
      "Precision: 0.931973\n",
      "Recall: 0.958042\n",
      "F1 score: 0.944828\n"
     ]
    }
   ],
   "source": [
    "# accuracy: (tp + tn) / (p + n)\n",
    "accuracy = metrics.accuracy_score(y_test, (y_pred > 0.5))\n",
    "print('Accuracy: %f' % accuracy)\n",
    "# precision tp / (tp + fp)\n",
    "precision = metrics.precision_score(y_test, (y_pred > 0.5))\n",
    "print('Precision: %f' % precision)\n",
    "# recall: tp / (tp + fn)\\\\\\\\\\\n",
    "recall = metrics.recall_score(y_test, (y_pred > 0.5))\n",
    "print('Recall: %f' % recall)\n",
    "# f1: 2 tp / (2 tp + fp + fn)\n",
    "f1 = metrics.f1_score(y_test, (y_pred > 0.5))\n",
    "print('F1 score: %f' % f1)"
   ]
  }
 ],
 "metadata": {
  "kernelspec": {
   "display_name": "Python [conda env:distraction]",
   "language": "python",
   "name": "conda-env-distraction-py"
  },
  "language_info": {
   "codemirror_mode": {
    "name": "ipython",
    "version": 3
   },
   "file_extension": ".py",
   "mimetype": "text/x-python",
   "name": "python",
   "nbconvert_exporter": "python",
   "pygments_lexer": "ipython3",
   "version": "3.7.3"
  },
  "toc": {
   "base_numbering": 1,
   "nav_menu": {},
   "number_sections": true,
   "sideBar": true,
   "skip_h1_title": false,
   "title_cell": "Table of Contents",
   "title_sidebar": "Contents",
   "toc_cell": false,
   "toc_position": {},
   "toc_section_display": true,
   "toc_window_display": false
  },
  "varInspector": {
   "cols": {
    "lenName": 16,
    "lenType": 16,
    "lenVar": 40
   },
   "kernels_config": {
    "python": {
     "delete_cmd_postfix": "",
     "delete_cmd_prefix": "del ",
     "library": "var_list.py",
     "varRefreshCmd": "print(var_dic_list())"
    },
    "r": {
     "delete_cmd_postfix": ") ",
     "delete_cmd_prefix": "rm(",
     "library": "var_list.r",
     "varRefreshCmd": "cat(var_dic_list()) "
    }
   },
   "types_to_exclude": [
    "module",
    "function",
    "builtin_function_or_method",
    "instance",
    "_Feature"
   ],
   "window_display": false
  }
 },
 "nbformat": 4,
 "nbformat_minor": 2
}
